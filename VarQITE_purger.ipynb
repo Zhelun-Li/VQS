{
 "cells": [
  {
   "cell_type": "code",
   "execution_count": 14,
   "id": "f623d854",
   "metadata": {},
   "outputs": [],
   "source": [
    "from qiskit import QuantumCircuit\n",
    "from qiskit.circuit import QuantumRegister,ClassicalRegister\n",
    "from qiskit_machine_learning.neural_networks import EstimatorQNN,SamplerQNN\n",
    "from IPython.display import clear_output\n",
    "import matplotlib.pyplot as plt\n",
    "import qiskit.quantum_info as qi\n",
    "from qiskit.circuit import ParameterVector\n",
    "from qiskit_algorithms.utils import algorithm_globals\n",
    "import time as t\n",
    "from qiskit.quantum_info import SparsePauliOp\n",
    "from qiskit.circuit.library import EfficientSU2\n",
    "import numpy as np"
   ]
  },
  {
   "cell_type": "markdown",
   "id": "1fe51ef9",
   "metadata": {},
   "source": [
    "Imaginary time evolution is a common method to solve for the ground state of a given Hamiltonian. In this notebook, I attempted to use it to solve for excited states by purging out the ground state component in the initial state.\n",
    "\n",
    "The evolution will take the intial state to one of its eigenstate with the lowest energy. If ground state is completely purged, then it is most likely the 1st excited state. However, the purging could only be made within a precision. As one will see, this still allows to observe the excited state.\n",
    "\n",
    "\n",
    "First set up the transverse Ising model.\n",
    "\n",
    "And then compute its eigenvalues to get the energies of the ground state and the 1st excited state"
   ]
  },
  {
   "cell_type": "code",
   "execution_count": 74,
   "id": "901616ba",
   "metadata": {},
   "outputs": [],
   "source": [
    "n_qubits=2\n",
    "n_layers=1\n",
    "\n",
    "j=0.5\n",
    "g=1.5\n",
    "hamiltonian = SparsePauliOp(['ZZ',  'IX', 'XI'],\n",
    "              coeffs=[-j , -j*g, -j*g])\n",
    "\n",
    "magnetization = SparsePauliOp([ 'IZ', 'ZI'], coeffs=[1, 1])"
   ]
  },
  {
   "cell_type": "code",
   "execution_count": 75,
   "id": "c449c269",
   "metadata": {},
   "outputs": [],
   "source": [
    "eigenValues=np.linalg.eig(hamiltonian.to_matrix())[0]\n",
    "eigenValues.sort()\n",
    "\n",
    "groudEnergy=eigenValues[0]\n",
    "exictedEnergy=eigenValues[1]\n",
    "exictedEnergy2=eigenValues[2]"
   ]
  },
  {
   "cell_type": "code",
   "execution_count": 76,
   "id": "f807a512",
   "metadata": {},
   "outputs": [
    {
     "name": "stdout",
     "output_type": "stream",
     "text": [
      "(-1.5811388300841895+0j)\n",
      "(-0.5000000000000001+0j)\n",
      "(0.4999999999999999+0j)\n",
      "(1.5811388300841898+0j)\n"
     ]
    }
   ],
   "source": [
    "for eig in eigenValues:\n",
    "    print(eig)"
   ]
  },
  {
   "cell_type": "markdown",
   "id": "63000c9f",
   "metadata": {},
   "source": [
    "Then Use imaginary time evolution to solve for the ground state"
   ]
  },
  {
   "cell_type": "code",
   "execution_count": 77,
   "id": "2e9cd332",
   "metadata": {},
   "outputs": [],
   "source": [
    "# A function that evaluates the hermitian conjugate\n",
    "def dagger(x):\n",
    "    return np.transpose(x.conjugate())"
   ]
  },
  {
   "cell_type": "code",
   "execution_count": null,
   "id": "00fed577",
   "metadata": {},
   "outputs": [],
   "source": []
  },
  {
   "cell_type": "code",
   "execution_count": 78,
   "id": "33c5b13e",
   "metadata": {},
   "outputs": [
    {
     "name": "stderr",
     "output_type": "stream",
     "text": [
      "/Users/lizhelun/miniforge3/envs/qc/lib/python3.10/site-packages/qiskit/visualization/circuit/matplotlib.py:266: FutureWarning: The default matplotlib drawer scheme will be changed to \"iqp\" in a following release. To silence this warning, specify the current default explicitly as style=\"clifford\", or the new default as style=\"iqp\".\n",
      "  self._style, def_font_ratio = load_style(self._style)\n"
     ]
    },
    {
     "data": {
      "image/png": "[encoded data removed]",
      "text/plain": [
       "<Figure size 387.452x144.48 with 1 Axes>"
      ]
     },
     "execution_count": 78,
     "metadata": {},
     "output_type": "execute_result"
    }
   ],
   "source": [
    "\n",
    "\n",
    "ansatz = EfficientSU2(hamiltonian.num_qubits, reps=n_layers)\n",
    "ansatz.decompose().draw('mpl')"
   ]
  },
  {
   "cell_type": "code",
   "execution_count": 79,
   "id": "0882a84b",
   "metadata": {},
   "outputs": [],
   "source": [
    "import numpy as np\n",
    "from qiskit_algorithms.time_evolvers.variational import ImaginaryMcLachlanPrinciple\n",
    "from qiskit_algorithms import TimeEvolutionProblem\n",
    "from qiskit_algorithms import VarQITE\n",
    "from qiskit.primitives import Estimator\n"
   ]
  },
  {
   "cell_type": "code",
   "execution_count": 80,
   "id": "81bcaff7",
   "metadata": {},
   "outputs": [
    {
     "name": "stdout",
     "output_type": "stream",
     "text": [
      "15.925961971282959\n"
     ]
    }
   ],
   "source": [
    "t1=t.time()\n",
    "init_param_values={}\n",
    "for i in range(len(ansatz.parameters)):\n",
    "    init_param_values[ansatz.parameters[i]]=np.pi/1.7\n",
    "    \n",
    "var_principle = ImaginaryMcLachlanPrinciple()\n",
    "    \n",
    "time = 5\n",
    "aux_ops = [hamiltonian]\n",
    "evolution_problem = TimeEvolutionProblem(hamiltonian, time, aux_operators=aux_ops)\n",
    "\n",
    "\n",
    "var_qite = VarQITE(ansatz, init_param_values, var_principle, Estimator())\n",
    "# an Estimator instance is necessary, if we want to calculate the expectation value of auxiliary operators.\n",
    "evolution_result = var_qite.evolve(evolution_problem)\n",
    "print(t.time()-t1)"
   ]
  },
  {
   "cell_type": "code",
   "execution_count": 81,
   "id": "029db7bf",
   "metadata": {},
   "outputs": [
    {
     "data": {
      "image/png": "[encoded data removed]",
      "text/plain": [
       "<Figure size 432x288 with 1 Axes>"
      ]
     },
     "metadata": {
      "needs_background": "light"
     },
     "output_type": "display_data"
    }
   ],
   "source": [
    "import pylab\n",
    "\n",
    "h_exp_val = np.array([ele[0][0] for ele in evolution_result.observables])\n",
    "\n",
    "\n",
    "times = evolution_result.times\n",
    "pylab.plot(times, h_exp_val, label= \"VarQITE\")\n",
    "pylab.xlabel(\"Time\")\n",
    "pylab.ylabel(r\"$\\langle H \\rangle$ (energy)\")\n",
    "pylab.legend(loc=\"upper right\");"
   ]
  },
  {
   "cell_type": "markdown",
   "id": "6b4b0c02",
   "metadata": {},
   "source": [
    "Get the ground state into matrix form. \n",
    "\n",
    "Ground state is then the state created by acting $U_{ground}$ on the zero state"
   ]
  },
  {
   "cell_type": "code",
   "execution_count": null,
   "id": "ea6e8f61",
   "metadata": {},
   "outputs": [],
   "source": [
    "qr_g = QuantumRegister(n_qubits,'qr') #quantum register\n",
    "qc_g = QuantumCircuit(qr_g) #construct ansatz\n",
    "qc_g.compose(EfficientSU2(hamiltonian.num_qubits, reps=n_layers),inplace=True)\n",
    "qc_g_assigned=qc_g.assign_parameters(evolution_result.parameter_values[-1])\n",
    "U_ground=qi.Operator(qc_g_assigned).to_matrix()"
   ]
  },
  {
   "cell_type": "markdown",
   "id": "da3df3be",
   "metadata": {},
   "source": [
    "Then we attempt to find the state created by $\\rvert U(\\theta)\\lvert 0 \\rangle$  that has no overlap with the ground state.\n",
    "\n",
    "This could be obtained by minimizing \n",
    "\n",
    "$\\langle 0 \\rvert U^{\\dagger}_{ground} U(\\theta) \\lvert 0 \\rangle$ \n",
    "\n",
    "or \n",
    "\n",
    "$\\langle 0 \\rvert U(\\theta)U^{\\dagger}_{ground} \\lvert 0 \\rangle$ "
   ]
  },
  {
   "cell_type": "code",
   "execution_count": null,
   "id": "b5b07fd5",
   "metadata": {},
   "outputs": [],
   "source": [
    "def callback_graph(x,name='loss'):\n",
    "    #clear_output(wait=True)\n",
    "    plt.title(\"Training curve\")\n",
    "    plt.xlabel(\"Iteration\")\n",
    "    plt.ylabel(name)\n",
    "    plt.plot(range(len(x)), x)\n",
    "    plt.show()\n",
    "def countZero(x):\n",
    "    out=f\"{bin(x)}\".count(\"1\")\n",
    "    if out==0:\n",
    "        return 0\n",
    "    else:\n",
    "        return 1"
   ]
  },
  {
   "cell_type": "code",
   "execution_count": null,
   "id": "97797c8b",
   "metadata": {},
   "outputs": [],
   "source": [
    "\n",
    "def mkSampler(U_target):\n",
    "    inputs = ParameterVector(\"input\", 0)\n",
    "    \n",
    "    ansatz=EfficientSU2(hamiltonian.num_qubits, reps=n_layers)\n",
    "    params_index=0\n",
    "    qc = QuantumCircuit(n_qubits)\n",
    "    qr=qc.qubits\n",
    "    A = [qr[i] for i in range(n_qubits)]\n",
    "\n",
    "  \n",
    "\n",
    "    qc.compose(ansatz,inplace=True)\n",
    "                \n",
    "                \n",
    "    qc.unitary(dagger(U_target),qubits=A, label='$U_{target}^{+}$')\n",
    "\n",
    "\n",
    "\n",
    "    qc.barrier()\n",
    "    sampler_qnn = SamplerQNN(circuit=qc,input_params=inputs, weight_params=ansatz.parameters,\n",
    "                         interpret=countZero,output_shape=2\n",
    "                        )\n",
    "    return qc,sampler_qnn\n",
    "    \n",
    "    "
   ]
  },
  {
   "cell_type": "code",
   "execution_count": null,
   "id": "ccac6ff9",
   "metadata": {},
   "outputs": [],
   "source": [
    "qc,sampler=mkSampler(U_ground)"
   ]
  },
  {
   "cell_type": "code",
   "execution_count": null,
   "id": "dd7a5945",
   "metadata": {},
   "outputs": [],
   "source": [
    "qc.draw('mpl')"
   ]
  },
  {
   "cell_type": "markdown",
   "id": "2d99c57b",
   "metadata": {},
   "source": [
    "My customized optimizer for fast convergence"
   ]
  },
  {
   "cell_type": "code",
   "execution_count": null,
   "id": "252ec67c",
   "metadata": {},
   "outputs": [],
   "source": [
    "def getMag(x):\n",
    "    x2=x**2\n",
    "    return np.sqrt(x2.sum())\n",
    "\n",
    "def getI(cx,cy,x,y):\n",
    "    cos=(x*y).sum()/(getMag(x)*getMag(y))\n",
    "    return (1-cos)\n",
    "def train(sampler,weights,learning_rate=1e-2,inputs=[]):\n",
    "    cost=0\n",
    "    for i,s in enumerate(sampler):\n",
    "        out=s.forward(inputs, weights)\n",
    "        cost+=out[0][0]\n",
    "  \n",
    "        input_grad,weight_grad = s.backward(inputs, weights)\n",
    "        grad=weight_grad[0][0] \n",
    "        if i>0:\n",
    "            grad+=weight_grad[0][0]\n",
    "        weights-=learning_rate*grad\n",
    "        \n",
    "    gradMag= np.sqrt((grad**2).sum())\n",
    "    return cost, weights,grad,gradMag\n",
    "    \n",
    "def myAlg(sampler,nSteps=100,learning_rate=1e-2,low=1e-2,high=1e-1,alpha=0.25,\n",
    "                  threshold=1e-5,sampler_weights=None):\n",
    "    sampler_input = np.array([])\n",
    "    if sampler_weights is None:\n",
    "        sampler_weights = algorithm_globals.random.random(sampler[0].num_weights)\n",
    "        \n",
    "    List={\"cost\":[],\"rate\":[],\"grad\":[],\"I\":[0]}\n",
    "    \n",
    "    for i in range(nSteps):\n",
    "        if i%5==0:\n",
    "            print(i)\n",
    "        t1=t.time()\n",
    "        cost, sampler_weights,grad,gradMag=train(sampler,sampler_weights,learning_rate=learning_rate)\n",
    "\n",
    "        List['cost'].append(cost)\n",
    "        List['grad'].append(grad)\n",
    "\n",
    "        if i>1:\n",
    "            I=getI(cost,List['cost'][-2],grad,List['grad'][-2])\n",
    "            List['I'].append(I)\n",
    "            if cost>0.1:\n",
    "                if I<low:\n",
    "                    learning_rate=learning_rate*(1+alpha)\n",
    "\n",
    "                if I>high:\n",
    "                    learning_rate=learning_rate*(1-alpha)\n",
    "            else:\n",
    "              \n",
    "                if I<low:\n",
    "                    learning_rate=learning_rate*(1+0.1*alpha)\n",
    "\n",
    "                if I>high:\n",
    "                    learning_rate=learning_rate*(1-0.1*alpha)\n",
    "        List['rate'].append(learning_rate)\n",
    "        if cost<1e-14:\n",
    "            break\n",
    "        if i%1==0:\n",
    "\n",
    "            clear_output(wait=True)\n",
    "            plt.figure(1)\n",
    "            plt.yscale('log')\n",
    "            callback_graph(List['cost'])\n",
    "#             plt.figure(2)\n",
    "#             plt.yscale('log')\n",
    "#             callback_graph(List['rate'],\"learning rate\")\n",
    "#             plt.figure(3)\n",
    "#             plt.yscale('log')\n",
    "#             callback_graph(List['I'],\"I value\")\n",
    "\n",
    "        #print(t.time()-t1)\n",
    "\n",
    "    return List,sampler_weights"
   ]
  },
  {
   "cell_type": "code",
   "execution_count": null,
   "id": "3588bbf6",
   "metadata": {},
   "outputs": [],
   "source": [
    "def purge(U,sampler_weights=None):\n",
    "    sampler_list=[]\n",
    "    for u in U:\n",
    "        qc,sampler=mkSampler(u)\n",
    "        sampler_list.append(sampler)\n",
    "        \n",
    "    costList,weights=myAlg(sampler_list,sampler_weights=sampler_weights,nSteps=200,learning_rate=2e0)\n",
    "    return weights"
   ]
  },
  {
   "cell_type": "code",
   "execution_count": null,
   "id": "128683fb",
   "metadata": {
    "scrolled": true
   },
   "outputs": [],
   "source": [
    "weights=purge([U_ground])\n"
   ]
  },
  {
   "cell_type": "markdown",
   "id": "dbf710d3",
   "metadata": {},
   "source": [
    "Checking that $\\langle 0 \\rvert U(\\theta)U^{\\dagger}_{ground} \\lvert 0 \\rangle$  is indeed minimized"
   ]
  },
  {
   "cell_type": "code",
   "execution_count": null,
   "id": "ec4e5faa",
   "metadata": {},
   "outputs": [],
   "source": [
    "UU_d=qi.Operator(qc.assign_parameters(weights))"
   ]
  },
  {
   "cell_type": "code",
   "execution_count": null,
   "id": "184bf6f2",
   "metadata": {},
   "outputs": [],
   "source": [
    "abs(UU_d.to_matrix()[0][0])"
   ]
  },
  {
   "cell_type": "markdown",
   "id": "c4521ba1",
   "metadata": {},
   "source": [
    "Performing imaginary time evolution again, but with a initial state that is orthogonal to the ground state within computational accuracy.\n",
    "\n",
    "First perform imaginary time with a purged initial state for a short period"
   ]
  },
  {
   "cell_type": "code",
   "execution_count": null,
   "id": "d29fec79",
   "metadata": {},
   "outputs": [],
   "source": [
    "time=1\n",
    "init_param_values={}\n",
    "for i in range(len(ansatz.parameters)):\n",
    "    init_param_values[ansatz.parameters[i]]=weights[i]\n",
    "\n",
    "aux_ops = [hamiltonian]\n",
    "evolution_problem = TimeEvolutionProblem(hamiltonian, time, aux_operators=aux_ops)\n",
    "var_qite = VarQITE(ansatz, init_param_values, var_principle, Estimator())\n",
    "# an Estimator instance is necessary, if we want to calculate the expectation value of auxiliary operators.\n",
    "evolution_result = var_qite.evolve(evolution_problem)"
   ]
  },
  {
   "cell_type": "markdown",
   "id": "147059a5",
   "metadata": {},
   "source": [
    "Now that it has evolved, the ground state is of greater coefficients. Purge again."
   ]
  },
  {
   "cell_type": "code",
   "execution_count": null,
   "id": "77e2fb66",
   "metadata": {},
   "outputs": [],
   "source": [
    "weights=purge([U_ground],sampler_weights=evolution_result.parameter_values[-1])"
   ]
  },
  {
   "cell_type": "code",
   "execution_count": null,
   "id": "794bc1f5",
   "metadata": {},
   "outputs": [],
   "source": [
    "time=5\n",
    "init_param_values={}\n",
    "for i in range(len(ansatz.parameters)):\n",
    "    init_param_values[ansatz.parameters[i]]=weights[i]\n",
    "\n",
    "aux_ops = [hamiltonian]\n",
    "evolution_problem = TimeEvolutionProblem(hamiltonian, time, aux_operators=aux_ops)\n",
    "var_qite = VarQITE(ansatz, init_param_values, var_principle, Estimator())\n",
    "# an Estimator instance is necessary, if we want to calculate the expectation value of auxiliary operators.\n",
    "evolution_result = var_qite.evolve(evolution_problem)\n",
    "\n"
   ]
  },
  {
   "cell_type": "code",
   "execution_count": null,
   "id": "e5ddb569",
   "metadata": {
    "scrolled": false
   },
   "outputs": [],
   "source": [
    "LabelSize=20\n",
    "h_exp_val_ex = np.array([ele[0][0] for ele in evolution_result.observables])\n",
    "times = evolution_result.times\n",
    "\n",
    "plt.figure(1)\n",
    "plt.figure(figsize=(16,9))\n",
    "plt.scatter(times, h_exp_val, label= \"VarQITE\",s=10)\n",
    "plt.scatter(times, h_exp_val_ex, label= \"VarQITE purged\",s=10)\n",
    "plt.plot(times,[groudEnergy]*len(times),color='r',label='ground energy')\n",
    "plt.plot(times,[exictedEnergy]*len(times),color='g',label='1st exicted state energy')\n",
    "plt.tick_params(axis='both', which='major', labelsize=LabelSize)\n",
    "plt.xlabel(\"Time\",fontsize=LabelSize)\n",
    "plt.ylabel(r\"$\\langle H \\rangle$ (energy)\",fontsize=LabelSize)\n",
    "plt.legend(fontsize=LabelSize);\n",
    "plt.savefig(\"VarQITE_purging.pdf\")"
   ]
  },
  {
   "cell_type": "markdown",
   "id": "17f43f4e",
   "metadata": {},
   "source": [
    "Obtaining the first exicted state"
   ]
  },
  {
   "cell_type": "code",
   "execution_count": null,
   "id": "49503c78",
   "metadata": {},
   "outputs": [],
   "source": [
    "diff=abs(h_exp_val_ex-exictedEnergy)\n",
    "index=np.where(diff==diff.min())[0][0]\n",
    "\n",
    "qr_g = QuantumRegister(n_qubits,'qr') #quantum register\n",
    "qc_g = QuantumCircuit(qr_g) #construct ansatz\n",
    "qc_g.compose(EfficientSU2(hamiltonian.num_qubits, reps=n_layers),inplace=True)\n",
    "qc_g_assigned=qc_g.assign_parameters(evolution_result.parameter_values[index])\n",
    "U_1=qi.Operator(qc_g_assigned).to_matrix()"
   ]
  },
  {
   "cell_type": "markdown",
   "id": "019708b3",
   "metadata": {},
   "source": [
    "Purge both ground and first excited state"
   ]
  },
  {
   "cell_type": "code",
   "execution_count": null,
   "id": "6347bf54",
   "metadata": {},
   "outputs": [],
   "source": [
    "def getEigen(U_list,time_stamp=np.array([0.5,0.5,0.5,0.5,5])):\n",
    "    weights=purge(U_list)\n",
    "    for i,time in enumerate(time_stamp):\n",
    "        init_param_values={}\n",
    "        for j in range(len(ansatz.parameters)):\n",
    "            init_param_values[ansatz.parameters[j]]=weights[j]\n",
    "\n",
    "        aux_ops = [hamiltonian]\n",
    "        evolution_problem = TimeEvolutionProblem(hamiltonian, time, aux_operators=aux_ops)\n",
    "        var_qite = VarQITE(ansatz, init_param_values, var_principle, Estimator())\n",
    "        # an Estimator instance is necessary, if we want to calculate the expectation value of auxiliary operators.\n",
    "        evolution_result = var_qite.evolve(evolution_problem)\n",
    "        if i<(len(time_stamp)-1):\n",
    "            weights=purge(U_list,sampler_weights=evolution_result.parameter_values[-1])\n",
    "        \n",
    "    return evolution_result,weights"
   ]
  },
  {
   "cell_type": "code",
   "execution_count": null,
   "id": "9e0b674e",
   "metadata": {},
   "outputs": [],
   "source": [
    "evolution_result,weights=getEigen([U_ground,U_1])"
   ]
  },
  {
   "cell_type": "code",
   "execution_count": null,
   "id": "bd690c96",
   "metadata": {},
   "outputs": [],
   "source": [
    "LabelSize=20\n",
    "h_exp_val_ex = np.array([ele[0][0] for ele in evolution_result.observables])\n",
    "times = evolution_result.times\n",
    "\n",
    "plt.figure(1)\n",
    "plt.figure(figsize=(16,9))\n",
    "plt.scatter(times, h_exp_val, label= \"VarQITE\",s=10)\n",
    "plt.scatter(times, h_exp_val_ex, label= \"VarQITE purged (0th and 1st)\",s=10)\n",
    "plt.plot(times,[groudEnergy]*len(times),color='r',label='ground energy')\n",
    "plt.plot(times,[exictedEnergy2]*len(times),color='g',label='2nd exicted state energy')\n",
    "plt.tick_params(axis='both', which='major', labelsize=LabelSize)\n",
    "plt.xlabel(\"Time\",fontsize=LabelSize)\n",
    "plt.ylabel(r\"$\\langle H \\rangle$ (energy)\",fontsize=LabelSize)\n",
    "plt.legend(fontsize=LabelSize);\n",
    "plt.savefig(\"VarQITE_purging_2nd.pdf\")"
   ]
  },
  {
   "cell_type": "markdown",
   "id": "c66907d3",
   "metadata": {},
   "source": [
    "Last Eigen"
   ]
  },
  {
   "cell_type": "code",
   "execution_count": null,
   "id": "f4c8d08c",
   "metadata": {},
   "outputs": [],
   "source": [
    "time_stamp=abs(times-1)\n",
    "index=np.where(time_stamp==time_stamp.min())[0][0]\n",
    "\n",
    "qr_g = QuantumRegister(n_qubits,'qr') #quantum register\n",
    "qc_g = QuantumCircuit(qr_g) #construct ansatz\n",
    "qc_g.compose(EfficientSU2(hamiltonian.num_qubits, reps=n_layers),inplace=True)\n",
    "qc_g_assigned=qc_g.assign_parameters(evolution_result.parameter_values[index])\n",
    "U_2=qi.Operator(qc_g_assigned).to_matrix()"
   ]
  },
  {
   "cell_type": "code",
   "execution_count": null,
   "id": "a537bb00",
   "metadata": {},
   "outputs": [],
   "source": [
    "weight_last=purge([U_ground,U_1,U_2])"
   ]
  },
  {
   "cell_type": "code",
   "execution_count": null,
   "id": "35e8b718",
   "metadata": {},
   "outputs": [],
   "source": [
    "qr_g = QuantumRegister(n_qubits,'qr') #quantum register\n",
    "qc_g = QuantumCircuit(qr_g) #construct ansatz\n",
    "qc_g.compose(EfficientSU2(hamiltonian.num_qubits, reps=n_layers),inplace=True)\n",
    "qc_g_assigned=qc_g.assign_parameters(weight_last)"
   ]
  },
  {
   "cell_type": "code",
   "execution_count": null,
   "id": "e66f5572",
   "metadata": {},
   "outputs": [],
   "source": [
    "U_3=qi.Operator(qc_g_assigned).to_matrix()"
   ]
  },
  {
   "cell_type": "code",
   "execution_count": null,
   "id": "f964805f",
   "metadata": {},
   "outputs": [],
   "source": [
    "HU=np.matmul(hamiltonian.to_matrix(),U_3)"
   ]
  },
  {
   "cell_type": "code",
   "execution_count": null,
   "id": "bb8b6da5",
   "metadata": {},
   "outputs": [],
   "source": [
    "UHU=np.matmul(dagger(U_3),HU)"
   ]
  },
  {
   "cell_type": "code",
   "execution_count": null,
   "id": "77267f9c",
   "metadata": {},
   "outputs": [],
   "source": [
    "abs(UHU[0][0])"
   ]
  },
  {
   "cell_type": "code",
   "execution_count": null,
   "id": "21c799a6",
   "metadata": {},
   "outputs": [],
   "source": [
    "eigenValues[-1]"
   ]
  },
  {
   "cell_type": "code",
   "execution_count": null,
   "id": "80ee2c9d",
   "metadata": {},
   "outputs": [],
   "source": []
  }
 ],
 "metadata": {
  "kernelspec": {
   "display_name": "qc",
   "language": "python",
   "name": "qc"
  },
  "language_info": {
   "codemirror_mode": {
    "name": "ipython",
    "version": 3
   },
   "file_extension": ".py",
   "mimetype": "text/x-python",
   "name": "python",
   "nbconvert_exporter": "python",
   "pygments_lexer": "ipython3",
   "version": "3.10.4"
  }
 },
 "nbformat": 4,
 "nbformat_minor": 5
}
