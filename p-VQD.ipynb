{
 "cells": [
  {
   "cell_type": "code",
   "execution_count": 1,
   "id": "715028ba",
   "metadata": {},
   "outputs": [
    {
     "name": "stderr",
     "output_type": "stream",
     "text": [
      "/var/folders/9v/dz00k5396wl369lhxwggy12m0000gn/T/ipykernel_2428/2958622593.py:9: DeprecationWarning: ``qiskit.algorithms`` has been migrated to an independent package: https://github.com/qiskit-community/qiskit-algorithms. The ``qiskit.algorithms`` import path is deprecated as of qiskit-terra 0.25.0 and will be removed no earlier than 3 months after the release date. Please run ``pip install qiskit_algorithms`` and use ``import qiskit_algorithms`` instead.\n",
      "  from qiskit.algorithms.gradients import ParamShiftEstimatorGradient,ParamShiftSamplerGradient\n"
     ]
    }
   ],
   "source": [
    "import numpy as np\n",
    "import scipy.optimize\n",
    "import matplotlib.pyplot as plt\n",
    "from qiskit.primitives import Sampler,Estimator\n",
    "from qiskit import QuantumCircuit\n",
    "from qiskit.circuit import QuantumRegister,ClassicalRegister\n",
    "from qiskit.quantum_info import SparsePauliOp\n",
    "from qiskit.circuit.library import EfficientSU2,RealAmplitudes\n",
    "from qiskit.algorithms.gradients import ParamShiftEstimatorGradient,ParamShiftSamplerGradient\n",
    "%matplotlib inline\n"
   ]
  },
  {
   "cell_type": "code",
   "execution_count": 2,
   "id": "6bae139f",
   "metadata": {},
   "outputs": [],
   "source": [
    "from VQS_header import compute_params_list,compute_magnetization"
   ]
  },
  {
   "cell_type": "code",
   "execution_count": 246,
   "id": "e1dd98a6",
   "metadata": {},
   "outputs": [
    {
     "name": "stdout",
     "output_type": "stream",
     "text": [
      "dt =  0.05\n"
     ]
    }
   ],
   "source": [
    "num_qubits = 2\n",
    "j_coupling = 1/4\n",
    "h_coupling = 1\n",
    "\n",
    "num_layers = 2\n",
    "time_max = 5e0\n",
    "epsilon_det = 1e-7\n",
    "num_steps = 100\n",
    "sampler = Sampler()\n",
    "estimator = Estimator()\n",
    "nShots=None\n",
    "\n",
    "dt=time_max/num_steps\n",
    "sampler=Sampler()\n",
    "\n",
    "print(\"dt = \",dt)"
   ]
  },
  {
   "cell_type": "code",
   "execution_count": 253,
   "id": "0b139270",
   "metadata": {},
   "outputs": [],
   "source": [
    "def addSuzukiTrotter(circuit,j,h,dt):\n",
    "    num_qubits=circuit.num_qubits\n",
    "    #Implementing Suzuki-Trotter evolution step for the transverse Ising\n",
    "    for i in range(num_qubits):\n",
    "        circuit.rx(-2*h*dt,i)\n",
    "    \n",
    "    for i in range(num_qubits-1):\n",
    "        circuit.rzz(-2*j*dt,i,i+1)\n",
    "    return circuit\n",
    "    \n",
    "\n",
    "def getCircuit(num_qubits,n_reps=3,j=j_coupling,h=h_coupling,dt=dt):\n",
    "    circuit = QuantumCircuit(num_qubits,num_qubits) \n",
    "    \n",
    "    ansatz =RealAmplitudes(num_qubits=num_qubits,reps=n_reps,parameter_prefix='ansatz_last')\n",
    "    ansatz_inv =RealAmplitudes(num_qubits=num_qubits,reps=n_reps,parameter_prefix='ansatz_current').inverse()\n",
    "    #circuit.h(circuit.qubits)\n",
    "    circuit.compose(ansatz_inv, inplace=True)\n",
    "    addSuzukiTrotter(circuit,j,h,dt)\n",
    "    circuit.compose(ansatz, inplace=True)  \n",
    "    \n",
    "    circuit.measure(circuit.qubits,circuit.clbits)\n",
    "    return circuit"
   ]
  },
  {
   "cell_type": "code",
   "execution_count": 254,
   "id": "3be018e1",
   "metadata": {},
   "outputs": [],
   "source": [
    "qc = getCircuit(num_qubits,n_reps=num_layers)"
   ]
  },
  {
   "cell_type": "code",
   "execution_count": 255,
   "id": "9e6e7d6b",
   "metadata": {},
   "outputs": [],
   "source": [
    "# qc.draw('mpl')"
   ]
  },
  {
   "cell_type": "code",
   "execution_count": 263,
   "id": "18bfea73",
   "metadata": {
    "scrolled": false
   },
   "outputs": [
    {
     "name": "stdout",
     "output_type": "stream",
     "text": [
      "dt =  0.05\n",
      "0.9986300224133644 1.876838587883891e-06\n",
      "----\n",
      "0.9986302872176702 1.8761131060775857e-06\n",
      "----\n",
      "0.9986264789403572 1.886560101282376e-06\n",
      "----\n",
      "0.9986180766017124 1.909712278734684e-06\n",
      "----\n",
      "0.99859991336359 1.9602425894538755e-06\n",
      "----\n",
      "0.9985600949065168 2.073326678238979e-06\n",
      "----\n",
      "0.9984710374703932 2.337726416941533e-06\n",
      "----\n",
      "0.998266420979027 3.00529622195785e-06\n",
      "----\n",
      "0.9977813819193596 4.9222661877444426e-06\n",
      "----\n",
      "0.996587527384242 1.1644969353298624e-05\n",
      "----\n",
      "0.9935623759183974 4.1443003816030285e-05\n",
      "----\n",
      "0.9857051152997302 0.00020434372859400902\n",
      "----\n",
      "0.9661178085765024 0.0011480028956585328\n",
      "----\n",
      "0.9225298358647744 0.006001626331138789\n",
      "----\n",
      "0.8627811570730562 0.018829010854209263\n",
      "----\n",
      "0.8266717685786007 0.030042675807670154\n",
      "----\n",
      "0.8441099080554474 0.02430172076648107\n",
      "----\n",
      "0.8303092217948052 0.02879496020788463\n",
      "----\n",
      "0.8484125998731543 0.022978739877216416\n",
      "----\n",
      "0.8353082100961602 0.027123385661730514\n",
      "----\n",
      "0.8513346785384357 0.02210137780527025\n",
      "----\n",
      "0.839813070329259 0.025659852437338922\n",
      "----\n",
      "0.852317713344725 0.02181005779173083\n",
      "----\n",
      "0.8431572697615668 0.02459964202864593\n",
      "----\n",
      "0.8520451343452854 0.021890642270904648\n",
      "----\n",
      "0.8459256452850533 0.023738906780827213\n",
      "----\n",
      "0.8521140733545108 0.021870247299795\n",
      "----\n",
      "0.8490641834691375 0.02278162071183819\n",
      "----\n",
      "0.8537359631873771 0.021393168464724308\n",
      "----\n",
      "0.8528882926455903 0.021641854440729483\n",
      "----\n",
      "0.8569305352959122 0.020468871730714214\n",
      "----\n",
      "0.8570726859653465 0.02042821709716047\n",
      "----\n",
      "0.8609701276254327 0.01932930541248848\n",
      "----\n",
      "0.8610966270583479 0.019294147014567692\n",
      "----\n",
      "0.8650667535043575 0.018206981009853827\n",
      "----\n",
      "0.8645364164282037 0.01835038247411305\n",
      "----\n",
      "0.8687059795136203 0.0172381198154779\n",
      "----\n",
      "0.8672222634031769 0.01762992733577534\n",
      "----\n",
      "0.8717239411484744 0.01645474727448006\n",
      "----\n",
      "0.8692827647388823 0.017086995594310386\n",
      "----\n",
      "0.874229101467881 0.015818318917576568\n",
      "----\n",
      "0.871028893166143 0.016633546397950165\n",
      "----\n",
      "0.8764185021138416 0.015272386619786561\n",
      "----\n",
      "0.8727422348141445 0.01619453880009834\n",
      "----\n",
      "0.8784158776100163 0.014782698817342543\n",
      "----\n",
      "0.8745374604969052 0.01574084881856563\n",
      "----\n",
      "0.8802368851552538 0.014343203677315872\n",
      "----\n",
      "0.876377717309696 0.015282468777561424\n",
      "----\n",
      "0.8818491251259519 0.013959629233502965\n",
      "----\n",
      "0.8781688023379591 0.014842840723767273\n",
      "----\n"
     ]
    }
   ],
   "source": [
    "print(\"dt = \",dt)\n",
    "n_params_ansatz=int(qc.num_parameters/2)\n",
    "weights_init=np.random.rand(n_params_ansatz)\n",
    "weights_init=np.concatenate([weights_init,weights_init])\n",
    "weights=weights_init\n",
    "#learning_rate=7e0\n",
    "learning_rate=1e0\n",
    "\n",
    "for step in range(50):\n",
    "    weights_list=[weights]\n",
    "    for i in range(n_params_ansatz):\n",
    "        weightsPlus=weights.copy()\n",
    "        weightsPlus[i]+=np.pi/2\n",
    "        weights_list.append(weightsPlus)\n",
    "\n",
    "        weightsMinus=weights.copy()\n",
    "        weightsMinus[i]-=np.pi/2\n",
    "        weights_list.append(weightsMinus)\n",
    "\n",
    "    results=sampler.run(circuits=[qc]*len(weights_list),parameter_values=weights_list).result().quasi_dists\n",
    "    output=results[0][0]\n",
    "    #loss=(1-(output)**2)/(dt**2)\n",
    "    loss=(1-output)**2\n",
    "\n",
    "    grad_list=[]\n",
    "    for i in range(n_params_ansatz):\n",
    "\n",
    "        tmpGrad_output=0.5*(results[2*i+1][0] - results[2*i+2][0])\n",
    "        #tmpGrad = ((-2*output)/(dt**2))*tmpGrad_output\n",
    "        tmpGrad = ((-2*output))*tmpGrad_output\n",
    "        #tmpGrad = tmpGrad_output*(-1)\n",
    "        grad_list.append(tmpGrad)\n",
    "        \n",
    "    grad_list=np.array(grad_list)\n",
    "    weights[0:n_params_ansatz]-=learning_rate*grad_list\n",
    "   \n",
    "    print(output,loss)\n",
    "    print('----')"
   ]
  },
  {
   "cell_type": "code",
   "execution_count": 251,
   "id": "24a0b252",
   "metadata": {},
   "outputs": [
    {
     "data": {
      "text/plain": [
       "13"
      ]
     },
     "execution_count": 251,
     "metadata": {},
     "output_type": "execute_result"
    }
   ],
   "source": [
    "len(weights_list)"
   ]
  },
  {
   "cell_type": "code",
   "execution_count": 222,
   "id": "17620bd3",
   "metadata": {},
   "outputs": [
    {
     "data": {
      "text/plain": [
       "6"
      ]
     },
     "execution_count": 222,
     "metadata": {},
     "output_type": "execute_result"
    }
   ],
   "source": [
    "n_params_ansatz"
   ]
  },
  {
   "cell_type": "code",
   "execution_count": null,
   "id": "b1c8a099",
   "metadata": {},
   "outputs": [],
   "source": []
  },
  {
   "cell_type": "code",
   "execution_count": null,
   "id": "17100a2e",
   "metadata": {},
   "outputs": [],
   "source": []
  },
  {
   "cell_type": "code",
   "execution_count": null,
   "id": "765c3655",
   "metadata": {},
   "outputs": [],
   "source": []
  },
  {
   "cell_type": "code",
   "execution_count": null,
   "id": "5ebec9a5",
   "metadata": {},
   "outputs": [],
   "source": []
  },
  {
   "cell_type": "code",
   "execution_count": null,
   "id": "b1d0e373",
   "metadata": {},
   "outputs": [],
   "source": [
    "gradSampler=ParamShiftSamplerGradient(sampler)"
   ]
  },
  {
   "cell_type": "code",
   "execution_count": null,
   "id": "d77d080d",
   "metadata": {
    "scrolled": false
   },
   "outputs": [],
   "source": [
    "# qc = getCircuit(num_qubits,n_reps=3,dt=0.05)\n",
    "# learning_rate=1e1\n",
    "\n",
    "\n",
    "# weights_init=np.random.rand(int(qc.num_parameters/2))\n",
    "# weights_last=weights_init.copy() # important to keep it as a copy\n",
    "# weights_tmp=weights_init.copy()\n",
    "# weights_all=np.concatenate([weights_tmp,weights_last])\n",
    "\n",
    "# print(weights_all)"
   ]
  },
  {
   "cell_type": "code",
   "execution_count": null,
   "id": "45c0c052",
   "metadata": {
    "scrolled": true
   },
   "outputs": [],
   "source": [
    "\n",
    "# for step in range(2):\n",
    "\n",
    "#     output=sampler.run(circuits=[qc],parameter_values=[weights_all]).result().quasi_dists[0][0]\n",
    "#     loss=((1-output)**2)/dt\n",
    "    \n",
    "#     print(\"initial loss =\",loss)\n",
    "\n",
    "#     for i in range(100):\n",
    "        \n",
    "#         if loss<1e-5:\n",
    "#             print(\"loss = \",loss, \"number of iterations = \",i)\n",
    "#             break\n",
    "            \n",
    "#         result=gradSampler.run(circuits=[qc],parameter_values=[weights_all],parameters=[qc.parameters[0:int(qc.num_parameters/2)]])\n",
    "#         grad=result.result().gradients[0]\n",
    "#         for j in range(len(weights_tmp)):\n",
    "#             #weights_tmp[j]+=learning_rate*grad[j][0]\n",
    "#             weights_tmp[j]-=2*((1-output)/dt)*(-1)*learning_rate*grad[j][0]\n",
    "#         weights_all=np.concatenate([weights_tmp,weights_last])\n",
    "        \n",
    "\n",
    "#         output=sampler.run(circuits=[qc],parameter_values=[weights_all]).result().quasi_dists[0][0]\n",
    "#         loss=((1-output)**2)/dt\n",
    "#         print(loss)\n",
    "\n",
    "#     print(\"loss = \",loss, \"number of iterations = \",100)\n",
    "            \n",
    "\n",
    "    \n",
    "#     weights_last=weights_tmp.copy()\n",
    "#     weights_all=np.concatenate([weights_tmp,weights_last])\n",
    "    \n"
   ]
  },
  {
   "cell_type": "code",
   "execution_count": null,
   "id": "a5eff131",
   "metadata": {},
   "outputs": [],
   "source": []
  },
  {
   "cell_type": "code",
   "execution_count": null,
   "id": "5ec39845",
   "metadata": {},
   "outputs": [],
   "source": []
  },
  {
   "cell_type": "code",
   "execution_count": null,
   "id": "968e6113",
   "metadata": {},
   "outputs": [],
   "source": []
  },
  {
   "cell_type": "code",
   "execution_count": null,
   "id": "2be73973",
   "metadata": {},
   "outputs": [],
   "source": []
  }
 ],
 "metadata": {
  "kernelspec": {
   "display_name": "qc",
   "language": "python",
   "name": "qc"
  },
  "language_info": {
   "codemirror_mode": {
    "name": "ipython",
    "version": 3
   },
   "file_extension": ".py",
   "mimetype": "text/x-python",
   "name": "python",
   "nbconvert_exporter": "python",
   "pygments_lexer": "ipython3",
   "version": "3.10.4"
  }
 },
 "nbformat": 4,
 "nbformat_minor": 5
}
